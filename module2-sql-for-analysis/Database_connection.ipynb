{
  "nbformat": 4,
  "nbformat_minor": 0,
  "metadata": {
    "colab": {
      "name": "Database_connection.ipynb",
      "provenance": [],
      "collapsed_sections": []
    },
    "kernelspec": {
      "name": "python3",
      "display_name": "Python 3"
    }
  },
  "cells": [
    {
      "cell_type": "code",
      "metadata": {
        "id": "1AY7f4vusF-Y",
        "colab_type": "code",
        "colab": {}
      },
      "source": [
        ""
      ],
      "execution_count": null,
      "outputs": []
    },
    {
      "cell_type": "code",
      "metadata": {
        "id": "rAsDnkthsfvp",
        "colab_type": "code",
        "colab": {
          "base_uri": "https://localhost:8080/",
          "height": 34
        },
        "outputId": "15960387-d942-488a-e9c4-03aecdb61a86"
      },
      "source": [
        "# Demo for connecting to a PostgreSQL database in python\n",
        "# DB Browser, like the colab notebook can also be used to exploring and demonstration\n",
        "# Step 1 - have the library psycopg2 installed\n",
        "# Locally: pipenv install psycopg2_binary\n",
        "!pip install psycopg2-binary # Want it to be already built\n"
      ],
      "execution_count": 58,
      "outputs": [
        {
          "output_type": "stream",
          "text": [
            "Requirement already satisfied: psycopg2-binary in /usr/local/lib/python3.6/dist-packages (2.8.5)\n"
          ],
          "name": "stdout"
        }
      ]
    },
    {
      "cell_type": "code",
      "metadata": {
        "id": "IYljDEA9w60m",
        "colab_type": "code",
        "colab": {}
      },
      "source": [
        "import psycopg2"
      ],
      "execution_count": 2,
      "outputs": []
    },
    {
      "cell_type": "code",
      "metadata": {
        "id": "EeMJMXesJCrK",
        "colab_type": "code",
        "colab": {
          "base_uri": "https://localhost:8080/",
          "height": 814
        },
        "outputId": "e15bc7cf-f004-4859-ec0d-2b62fb6fcf93"
      },
      "source": [
        "dir(psycopg2)"
      ],
      "execution_count": 59,
      "outputs": [
        {
          "output_type": "execute_result",
          "data": {
            "text/plain": [
              "['BINARY',\n",
              " 'Binary',\n",
              " 'DATETIME',\n",
              " 'DataError',\n",
              " 'DatabaseError',\n",
              " 'Date',\n",
              " 'DateFromTicks',\n",
              " 'Error',\n",
              " 'IntegrityError',\n",
              " 'InterfaceError',\n",
              " 'InternalError',\n",
              " 'NUMBER',\n",
              " 'NotSupportedError',\n",
              " 'OperationalError',\n",
              " 'ProgrammingError',\n",
              " 'ROWID',\n",
              " 'STRING',\n",
              " 'Time',\n",
              " 'TimeFromTicks',\n",
              " 'Timestamp',\n",
              " 'TimestampFromTicks',\n",
              " 'Warning',\n",
              " '__builtins__',\n",
              " '__cached__',\n",
              " '__doc__',\n",
              " '__file__',\n",
              " '__libpq_version__',\n",
              " '__loader__',\n",
              " '__name__',\n",
              " '__package__',\n",
              " '__path__',\n",
              " '__spec__',\n",
              " '__version__',\n",
              " '_connect',\n",
              " '_ext',\n",
              " '_json',\n",
              " '_psycopg',\n",
              " '_range',\n",
              " 'apilevel',\n",
              " 'compat',\n",
              " 'connect',\n",
              " 'errors',\n",
              " 'extensions',\n",
              " 'paramstyle',\n",
              " 'threadsafety',\n",
              " 'tz']"
            ]
          },
          "metadata": {
            "tags": []
          },
          "execution_count": 59
        }
      ]
    },
    {
      "cell_type": "code",
      "metadata": {
        "id": "UL1DVwx3JJxR",
        "colab_type": "code",
        "colab": {
          "base_uri": "https://localhost:8080/",
          "height": 624
        },
        "outputId": "231773be-249a-41c5-a72d-9cea01e86cae"
      },
      "source": [
        "help(psycopg2.connect)"
      ],
      "execution_count": 60,
      "outputs": [
        {
          "output_type": "stream",
          "text": [
            "Help on function connect in module psycopg2:\n",
            "\n",
            "connect(dsn=None, connection_factory=None, cursor_factory=None, **kwargs)\n",
            "    Create a new database connection.\n",
            "    \n",
            "    The connection parameters can be specified as a string:\n",
            "    \n",
            "        conn = psycopg2.connect(\"dbname=test user=postgres password=secret\")\n",
            "    \n",
            "    or using a set of keyword arguments:\n",
            "    \n",
            "        conn = psycopg2.connect(database=\"test\", user=\"postgres\", password=\"secret\")\n",
            "    \n",
            "    Or as a mix of both. The basic connection parameters are:\n",
            "    \n",
            "    - *dbname*: the database name\n",
            "    - *database*: the database name (only as keyword argument)\n",
            "    - *user*: user name used to authenticate\n",
            "    - *password*: password used to authenticate\n",
            "    - *host*: database host address (defaults to UNIX socket if not provided)\n",
            "    - *port*: connection port number (defaults to 5432 if not provided)\n",
            "    \n",
            "    Using the *connection_factory* parameter a different class or connections\n",
            "    factory can be specified. It should be a callable object taking a dsn\n",
            "    argument.\n",
            "    \n",
            "    Using the *cursor_factory* parameter, a new default cursor factory will be\n",
            "    used by cursor().\n",
            "    \n",
            "    Using *async*=True an asynchronous connection will be created. *async_* is\n",
            "    a valid alias (for Python versions where ``async`` is a keyword).\n",
            "    \n",
            "    Any other keyword parameter will be passed to the underlying client\n",
            "    library: the list of supported parameters depends on the library version.\n",
            "\n"
          ],
          "name": "stdout"
        }
      ]
    },
    {
      "cell_type": "code",
      "metadata": {
        "id": "kHv3b3Y5tdHJ",
        "colab_type": "code",
        "colab": {}
      },
      "source": [
        "# Connection to postgreSQL needs more auth/host information to connect\n",
        "# Note - sensitive and confidential information, should not be checked \n",
        "# into Git, more on how to handle them through the .env files\n",
        "dbname =\"omekiiqr\"\n",
        "user = \"omekiiqr\"  # ElephantSQL chooses to reuse dbname and username\n",
        "password = \"iWYlHjsvGl4EoiyazC1T_12vsKQUEAuL\" # Don't share/commit - very sensitive\n",
        "host = \"ruby.db.elephantsql.com\"  #  Port is 5432 by default"
      ],
      "execution_count": 61,
      "outputs": []
    },
    {
      "cell_type": "code",
      "metadata": {
        "id": "TkWlszZOu6iL",
        "colab_type": "code",
        "colab": {}
      },
      "source": [
        "# If we make too many connections, the database complains\n",
        "# Be sure to close cursors and connections\n",
        "pg_connect = psycopg2.connect( dbname=dbname, user = user, password = password, host = host)"
      ],
      "execution_count": 62,
      "outputs": []
    },
    {
      "cell_type": "code",
      "metadata": {
        "id": "mJIOuqpmxF8P",
        "colab_type": "code",
        "colab": {
          "base_uri": "https://localhost:8080/",
          "height": 54
        },
        "outputId": "edbed19a-9b90-46fe-eb91-802cacbfc5d5"
      },
      "source": [
        "pg_connect"
      ],
      "execution_count": 63,
      "outputs": [
        {
          "output_type": "execute_result",
          "data": {
            "text/plain": [
              "<connection object at 0x7f0367a3eb40; dsn: 'user=omekiiqr password=xxx dbname=omekiiqr host=ruby.db.elephantsql.com', closed: 0>"
            ]
          },
          "metadata": {
            "tags": []
          },
          "execution_count": 63
        }
      ]
    },
    {
      "cell_type": "code",
      "metadata": {
        "id": "ksURmdmexV0m",
        "colab_type": "code",
        "colab": {
          "base_uri": "https://localhost:8080/",
          "height": 1000
        },
        "outputId": "a2350069-593f-4603-8cd4-51b0bc7d51b4"
      },
      "source": [
        "dir(pg_connect)"
      ],
      "execution_count": 64,
      "outputs": [
        {
          "output_type": "execute_result",
          "data": {
            "text/plain": [
              "['DataError',\n",
              " 'DatabaseError',\n",
              " 'Error',\n",
              " 'IntegrityError',\n",
              " 'InterfaceError',\n",
              " 'InternalError',\n",
              " 'NotSupportedError',\n",
              " 'OperationalError',\n",
              " 'ProgrammingError',\n",
              " 'Warning',\n",
              " '__class__',\n",
              " '__delattr__',\n",
              " '__dir__',\n",
              " '__doc__',\n",
              " '__enter__',\n",
              " '__eq__',\n",
              " '__exit__',\n",
              " '__format__',\n",
              " '__ge__',\n",
              " '__getattribute__',\n",
              " '__gt__',\n",
              " '__hash__',\n",
              " '__init__',\n",
              " '__init_subclass__',\n",
              " '__le__',\n",
              " '__lt__',\n",
              " '__ne__',\n",
              " '__new__',\n",
              " '__reduce__',\n",
              " '__reduce_ex__',\n",
              " '__repr__',\n",
              " '__setattr__',\n",
              " '__sizeof__',\n",
              " '__str__',\n",
              " '__subclasshook__',\n",
              " 'async',\n",
              " 'async_',\n",
              " 'autocommit',\n",
              " 'binary_types',\n",
              " 'cancel',\n",
              " 'close',\n",
              " 'closed',\n",
              " 'commit',\n",
              " 'cursor',\n",
              " 'cursor_factory',\n",
              " 'deferrable',\n",
              " 'dsn',\n",
              " 'encoding',\n",
              " 'fileno',\n",
              " 'get_backend_pid',\n",
              " 'get_dsn_parameters',\n",
              " 'get_native_connection',\n",
              " 'get_parameter_status',\n",
              " 'get_transaction_status',\n",
              " 'info',\n",
              " 'isexecuting',\n",
              " 'isolation_level',\n",
              " 'lobject',\n",
              " 'notices',\n",
              " 'notifies',\n",
              " 'pgconn_ptr',\n",
              " 'poll',\n",
              " 'protocol_version',\n",
              " 'readonly',\n",
              " 'reset',\n",
              " 'rollback',\n",
              " 'server_version',\n",
              " 'set_client_encoding',\n",
              " 'set_isolation_level',\n",
              " 'set_session',\n",
              " 'status',\n",
              " 'string_types',\n",
              " 'tpc_begin',\n",
              " 'tpc_commit',\n",
              " 'tpc_prepare',\n",
              " 'tpc_recover',\n",
              " 'tpc_rollback',\n",
              " 'xid']"
            ]
          },
          "metadata": {
            "tags": []
          },
          "execution_count": 64
        }
      ]
    },
    {
      "cell_type": "code",
      "metadata": {
        "id": "TSjJpV4uxrYz",
        "colab_type": "code",
        "colab": {}
      },
      "source": [
        "pg_cursor = pg_connect.cursor() # Works in the same way with sqlite\n"
      ],
      "execution_count": 65,
      "outputs": []
    },
    {
      "cell_type": "code",
      "metadata": {
        "id": "BcjasyFBMcGU",
        "colab_type": "code",
        "colab": {
          "base_uri": "https://localhost:8080/",
          "height": 104
        },
        "outputId": "0b0a463c-10f3-479e-8812-5688965ea656"
      },
      "source": [
        "help(pg_cursor.execute)"
      ],
      "execution_count": 66,
      "outputs": [
        {
          "output_type": "stream",
          "text": [
            "Help on built-in function execute:\n",
            "\n",
            "execute(...) method of psycopg2.extensions.cursor instance\n",
            "    execute(query, vars=None) -- Execute query with bound vars.\n",
            "\n"
          ],
          "name": "stdout"
        }
      ]
    },
    {
      "cell_type": "code",
      "metadata": {
        "id": "pL-f37wxM7Zl",
        "colab_type": "code",
        "colab": {
          "base_uri": "https://localhost:8080/",
          "height": 104
        },
        "outputId": "8554610e-d156-4261-8088-c356580ceca9"
      },
      "source": [
        "help(pg_cursor.executemany) # And more functionality"
      ],
      "execution_count": 67,
      "outputs": [
        {
          "output_type": "stream",
          "text": [
            "Help on built-in function executemany:\n",
            "\n",
            "executemany(...) method of psycopg2.extensions.cursor instance\n",
            "    executemany(query, vars_list) -- Execute many queries with bound vars.\n",
            "\n"
          ],
          "name": "stdout"
        }
      ]
    },
    {
      "cell_type": "code",
      "metadata": {
        "id": "cVFBMhrUy09u",
        "colab_type": "code",
        "colab": {
          "base_uri": "https://localhost:8080/",
          "height": 217
        },
        "outputId": "eea996c3-a1f1-49b1-a2c4-5f02ada96b2b"
      },
      "source": [
        "# Connected but the db is empty\n",
        "# We going to run an example to populate the database\n",
        "create_table_statement = \"\"\"\n",
        "CREATE TABLE test_table (\n",
        "  id SERIAL PRIMARY KEY,\n",
        "  name varchar(40) NOT NULL,\n",
        "  data JSONB\n",
        ");\n",
        "\"\"\"\n",
        "# These types are PostgreSQL specific and will not work with SQLite\n",
        "\n",
        "pg_cursor.execute(create_table_statement)\n",
        "pg_connect.commit() # Save the changes by commiting"
      ],
      "execution_count": 68,
      "outputs": [
        {
          "output_type": "error",
          "ename": "DuplicateTable",
          "evalue": "ignored",
          "traceback": [
            "\u001b[0;31m---------------------------------------------------------------------------\u001b[0m",
            "\u001b[0;31mDuplicateTable\u001b[0m                            Traceback (most recent call last)",
            "\u001b[0;32m<ipython-input-68-9c8159ce5d42>\u001b[0m in \u001b[0;36m<module>\u001b[0;34m()\u001b[0m\n\u001b[1;32m     10\u001b[0m \u001b[0;31m# These types are PostgreSQL specific and will not work with SQLite\u001b[0m\u001b[0;34m\u001b[0m\u001b[0;34m\u001b[0m\u001b[0;34m\u001b[0m\u001b[0m\n\u001b[1;32m     11\u001b[0m \u001b[0;34m\u001b[0m\u001b[0m\n\u001b[0;32m---> 12\u001b[0;31m \u001b[0mpg_cursor\u001b[0m\u001b[0;34m.\u001b[0m\u001b[0mexecute\u001b[0m\u001b[0;34m(\u001b[0m\u001b[0mcreate_table_statement\u001b[0m\u001b[0;34m)\u001b[0m\u001b[0;34m\u001b[0m\u001b[0;34m\u001b[0m\u001b[0m\n\u001b[0m\u001b[1;32m     13\u001b[0m \u001b[0mpg_connect\u001b[0m\u001b[0;34m.\u001b[0m\u001b[0mcommit\u001b[0m\u001b[0;34m(\u001b[0m\u001b[0;34m)\u001b[0m \u001b[0;31m# Save the changes by commiting\u001b[0m\u001b[0;34m\u001b[0m\u001b[0;34m\u001b[0m\u001b[0m\n",
            "\u001b[0;31mDuplicateTable\u001b[0m: relation \"test_table\" already exists\n"
          ]
        }
      ]
    },
    {
      "cell_type": "code",
      "metadata": {
        "id": "IdbbLo1j0Agm",
        "colab_type": "code",
        "colab": {
          "base_uri": "https://localhost:8080/",
          "height": 234
        },
        "outputId": "46a398c9-bfb9-42a8-b13b-36d825ae9916"
      },
      "source": [
        "insert_statement = \"\"\"\n",
        "INSERT INTO test_table (name, data) VALUES\n",
        "(\n",
        "  'A row name',\n",
        "  null\n",
        "),\n",
        "(\n",
        "  'Another row, with JSON this time',\n",
        "  '{ \"a\": 1, \"b\": [\"dog\", \"cat\", 42], \"c\": true }'::JSONB\n",
        ")\n",
        "\"\"\"\n",
        "pg_cursor.execute(insert_statement)\n",
        "pg_connect.commit()"
      ],
      "execution_count": 69,
      "outputs": [
        {
          "output_type": "error",
          "ename": "InFailedSqlTransaction",
          "evalue": "ignored",
          "traceback": [
            "\u001b[0;31m---------------------------------------------------------------------------\u001b[0m",
            "\u001b[0;31mInFailedSqlTransaction\u001b[0m                    Traceback (most recent call last)",
            "\u001b[0;32m<ipython-input-69-4723df13d1c2>\u001b[0m in \u001b[0;36m<module>\u001b[0;34m()\u001b[0m\n\u001b[1;32m     10\u001b[0m )\n\u001b[1;32m     11\u001b[0m \"\"\"\n\u001b[0;32m---> 12\u001b[0;31m \u001b[0mpg_cursor\u001b[0m\u001b[0;34m.\u001b[0m\u001b[0mexecute\u001b[0m\u001b[0;34m(\u001b[0m\u001b[0minsert_statement\u001b[0m\u001b[0;34m)\u001b[0m\u001b[0;34m\u001b[0m\u001b[0;34m\u001b[0m\u001b[0m\n\u001b[0m\u001b[1;32m     13\u001b[0m \u001b[0mpg_connect\u001b[0m\u001b[0;34m.\u001b[0m\u001b[0mcommit\u001b[0m\u001b[0;34m(\u001b[0m\u001b[0;34m)\u001b[0m\u001b[0;34m\u001b[0m\u001b[0;34m\u001b[0m\u001b[0m\n",
            "\u001b[0;31mInFailedSqlTransaction\u001b[0m: current transaction is aborted, commands ignored until end of transaction block\n"
          ]
        }
      ]
    },
    {
      "cell_type": "code",
      "metadata": {
        "id": "AdGs2czk2GiL",
        "colab_type": "code",
        "colab": {
          "base_uri": "https://localhost:8080/",
          "height": 200
        },
        "outputId": "d90e999f-bc8a-47f7-9d18-f3def8bb62c3"
      },
      "source": [
        "query = \"SELECT * FROM test_table\"\n",
        "pg_cursor.execute(query)"
      ],
      "execution_count": 70,
      "outputs": [
        {
          "output_type": "error",
          "ename": "InFailedSqlTransaction",
          "evalue": "ignored",
          "traceback": [
            "\u001b[0;31m---------------------------------------------------------------------------\u001b[0m",
            "\u001b[0;31mInFailedSqlTransaction\u001b[0m                    Traceback (most recent call last)",
            "\u001b[0;32m<ipython-input-70-e8a190b9b5e7>\u001b[0m in \u001b[0;36m<module>\u001b[0;34m()\u001b[0m\n\u001b[1;32m      1\u001b[0m \u001b[0mquery\u001b[0m \u001b[0;34m=\u001b[0m \u001b[0;34m\"SELECT * FROM test_table\"\u001b[0m\u001b[0;34m\u001b[0m\u001b[0;34m\u001b[0m\u001b[0m\n\u001b[0;32m----> 2\u001b[0;31m \u001b[0mpg_cursor\u001b[0m\u001b[0;34m.\u001b[0m\u001b[0mexecute\u001b[0m\u001b[0;34m(\u001b[0m\u001b[0mquery\u001b[0m\u001b[0;34m)\u001b[0m\u001b[0;34m\u001b[0m\u001b[0;34m\u001b[0m\u001b[0m\n\u001b[0m",
            "\u001b[0;31mInFailedSqlTransaction\u001b[0m: current transaction is aborted, commands ignored until end of transaction block\n"
          ]
        }
      ]
    },
    {
      "cell_type": "code",
      "metadata": {
        "id": "KrZASbOV2ahJ",
        "colab_type": "code",
        "colab": {
          "base_uri": "https://localhost:8080/",
          "height": 34
        },
        "outputId": "f078efc1-2f28-4e92-ab68-2e30453fcded"
      },
      "source": [
        "pg_cursor"
      ],
      "execution_count": 10,
      "outputs": [
        {
          "output_type": "execute_result",
          "data": {
            "text/plain": [
              "<cursor object at 0x7f0367a3d9f8; closed: 0>"
            ]
          },
          "metadata": {
            "tags": []
          },
          "execution_count": 10
        }
      ]
    },
    {
      "cell_type": "code",
      "metadata": {
        "id": "sa893pdJ2dlg",
        "colab_type": "code",
        "colab": {
          "base_uri": "https://localhost:8080/",
          "height": 156
        },
        "outputId": "ed5d1f90-6295-4cbc-f64c-cd913942f838"
      },
      "source": [
        "pg_cursor.fetchall()"
      ],
      "execution_count": 11,
      "outputs": [
        {
          "output_type": "execute_result",
          "data": {
            "text/plain": [
              "[(1, 'A row name', None),\n",
              " (2,\n",
              "  'Another row, with JSON this time',\n",
              "  {'a': 1, 'b': ['dog', 'cat', 42], 'c': True}),\n",
              " (3, 'A row name', None),\n",
              " (4,\n",
              "  'Another row, with JSON this time',\n",
              "  {'a': 1, 'b': ['dog', 'cat', 42], 'c': True})]"
            ]
          },
          "metadata": {
            "tags": []
          },
          "execution_count": 11
        }
      ]
    },
    {
      "cell_type": "code",
      "metadata": {
        "id": "6zYd_RUSOGg_",
        "colab_type": "code",
        "colab": {}
      },
      "source": [
        "pg_cursor.close()"
      ],
      "execution_count": 41,
      "outputs": []
    },
    {
      "cell_type": "code",
      "metadata": {
        "id": "EjynoFS1OLhW",
        "colab_type": "code",
        "colab": {
          "base_uri": "https://localhost:8080/",
          "height": 200
        },
        "outputId": "3e3bb16c-e622-499f-967b-cb17f259ea03"
      },
      "source": [
        "pg_cursor = pg_connect.cursor()\n",
        "pg_cursor.execute(\"INSERT INTO test_table (name, data) VALUES (null, null);\")"
      ],
      "execution_count": 42,
      "outputs": [
        {
          "output_type": "error",
          "ename": "InFailedSqlTransaction",
          "evalue": "ignored",
          "traceback": [
            "\u001b[0;31m---------------------------------------------------------------------------\u001b[0m",
            "\u001b[0;31mInFailedSqlTransaction\u001b[0m                    Traceback (most recent call last)",
            "\u001b[0;32m<ipython-input-42-5326d0c25a48>\u001b[0m in \u001b[0;36m<module>\u001b[0;34m()\u001b[0m\n\u001b[1;32m      1\u001b[0m \u001b[0mpg_cursor\u001b[0m \u001b[0;34m=\u001b[0m \u001b[0mpg_connect\u001b[0m\u001b[0;34m.\u001b[0m\u001b[0mcursor\u001b[0m\u001b[0;34m(\u001b[0m\u001b[0;34m)\u001b[0m\u001b[0;34m\u001b[0m\u001b[0;34m\u001b[0m\u001b[0m\n\u001b[0;32m----> 2\u001b[0;31m \u001b[0mpg_cursor\u001b[0m\u001b[0;34m.\u001b[0m\u001b[0mexecute\u001b[0m\u001b[0;34m(\u001b[0m\u001b[0;34m\"INSERT INTO test_table (name, data) VALUES (null, null);\"\u001b[0m\u001b[0;34m)\u001b[0m\u001b[0;34m\u001b[0m\u001b[0;34m\u001b[0m\u001b[0m\n\u001b[0m",
            "\u001b[0;31mInFailedSqlTransaction\u001b[0m: current transaction is aborted, commands ignored until end of transaction block\n"
          ]
        }
      ]
    },
    {
      "cell_type": "code",
      "metadata": {
        "id": "I_wbCb3o3L65",
        "colab_type": "code",
        "colab": {}
      },
      "source": [
        "# Database contraints are enforced and effected, this ensures good data quality\n",
        "# Use the .close() to avoid database errors"
      ],
      "execution_count": null,
      "outputs": []
    },
    {
      "cell_type": "markdown",
      "metadata": {
        "id": "Du5-XA2U4Zee",
        "colab_type": "text"
      },
      "source": [
        "ETL\n",
        "\n",
        "Extract – Transform – Load\n",
        "\n",
        "Extract - get the data fromt eh source\n",
        "Load - insert data into the required destination\n",
        "We would like to extract data from rpg_data sqlite 3 and load it into PostgreSQL\n",
        "\n",
        "If we change so that it fits or change format (calculate/summarize) – that would be the transform step\n",
        "\n",
        "We are making our first cloud \"ETL\"\n"
      ]
    },
    {
      "cell_type": "code",
      "metadata": {
        "id": "FSfmYVTo5fE3",
        "colab_type": "code",
        "colab": {
          "base_uri": "https://localhost:8080/",
          "height": 384
        },
        "outputId": "81a40f0a-4fd5-4ab4-953d-aed27488e19b"
      },
      "source": [
        "# Getting the data\n",
        "!wget https://github.com/LambdaSchool/DS-Unit-3-Sprint-2-SQL-and-Databases/blob/master/module1-introduction-to-sql/rpg_db.sqlite3?raw=true"
      ],
      "execution_count": 12,
      "outputs": [
        {
          "output_type": "stream",
          "text": [
            "--2020-08-11 19:54:22--  https://github.com/LambdaSchool/DS-Unit-3-Sprint-2-SQL-and-Databases/blob/master/module1-introduction-to-sql/rpg_db.sqlite3?raw=true\n",
            "Resolving github.com (github.com)... 140.82.112.4\n",
            "Connecting to github.com (github.com)|140.82.112.4|:443... connected.\n",
            "HTTP request sent, awaiting response... 302 Found\n",
            "Location: https://github.com/LambdaSchool/DS-Unit-3-Sprint-2-SQL-and-Databases/raw/master/module1-introduction-to-sql/rpg_db.sqlite3 [following]\n",
            "--2020-08-11 19:54:23--  https://github.com/LambdaSchool/DS-Unit-3-Sprint-2-SQL-and-Databases/raw/master/module1-introduction-to-sql/rpg_db.sqlite3\n",
            "Reusing existing connection to github.com:443.\n",
            "HTTP request sent, awaiting response... 302 Found\n",
            "Location: https://raw.githubusercontent.com/LambdaSchool/DS-Unit-3-Sprint-2-SQL-and-Databases/master/module1-introduction-to-sql/rpg_db.sqlite3 [following]\n",
            "--2020-08-11 19:54:23--  https://raw.githubusercontent.com/LambdaSchool/DS-Unit-3-Sprint-2-SQL-and-Databases/master/module1-introduction-to-sql/rpg_db.sqlite3\n",
            "Resolving raw.githubusercontent.com (raw.githubusercontent.com)... 151.101.0.133, 151.101.64.133, 151.101.128.133, ...\n",
            "Connecting to raw.githubusercontent.com (raw.githubusercontent.com)|151.101.0.133|:443... connected.\n",
            "HTTP request sent, awaiting response... 200 OK\n",
            "Length: 253952 (248K) [application/octet-stream]\n",
            "Saving to: ‘rpg_db.sqlite3?raw=true’\n",
            "\n",
            "rpg_db.sqlite3?raw= 100%[===================>] 248.00K  --.-KB/s    in 0.05s   \n",
            "\n",
            "2020-08-11 19:54:24 (4.40 MB/s) - ‘rpg_db.sqlite3?raw=true’ saved [253952/253952]\n",
            "\n"
          ],
          "name": "stdout"
        }
      ]
    },
    {
      "cell_type": "code",
      "metadata": {
        "id": "x6Rc77MP5vLu",
        "colab_type": "code",
        "colab": {}
      },
      "source": [
        "# Renaming the database\n",
        "!mv 'rpg_db.sqlite3?raw=true' rpg_db.sqlite3"
      ],
      "execution_count": 13,
      "outputs": []
    },
    {
      "cell_type": "code",
      "metadata": {
        "id": "ntA2qU1d6HzL",
        "colab_type": "code",
        "colab": {
          "base_uri": "https://localhost:8080/",
          "height": 34
        },
        "outputId": "92d79ee4-ca3e-4cae-e04a-94fc1d53c27f"
      },
      "source": [
        "!ls"
      ],
      "execution_count": 14,
      "outputs": [
        {
          "output_type": "stream",
          "text": [
            "rpg_db.sqlite3\tsample_data\n"
          ],
          "name": "stdout"
        }
      ]
    },
    {
      "cell_type": "code",
      "metadata": {
        "id": "1bjZ15po6cqJ",
        "colab_type": "code",
        "colab": {}
      },
      "source": [
        "# Step 1 - Extract data from sqlite3\n",
        "\n",
        "import os\n",
        "import sqlite3\n",
        "\n",
        "# construction of  a path to wherever the database exists\n",
        "# DB_FILEPATH = \"rpg_db.sqlite3.db\"\n",
        "# DB_FILEPATH = os.path.join(os.path.dirname(__file__), \"rpg_db.sqlite3\")\n",
        "\n",
        "s1_connection = sqlite3.connect(\"rpg_db.sqlite3\")\n",
        "# print(\"CONNECTION:\", connection)\n",
        "\n",
        "s1_cursor = s1_connection.cursor()"
      ],
      "execution_count": 15,
      "outputs": []
    },
    {
      "cell_type": "code",
      "metadata": {
        "id": "JDy5g2C5-XzF",
        "colab_type": "code",
        "colab": {}
      },
      "source": [
        "# Our goal is to copy the charactercreator_character table\n",
        "get_characters = \"SELECT * FROM Charactercreator_character;\""
      ],
      "execution_count": 16,
      "outputs": []
    },
    {
      "cell_type": "code",
      "metadata": {
        "id": "9FfL3Lsp8isi",
        "colab_type": "code",
        "colab": {}
      },
      "source": [
        "characters = s1_cursor.execute(get_characters).fetchall()"
      ],
      "execution_count": 17,
      "outputs": []
    },
    {
      "cell_type": "code",
      "metadata": {
        "id": "vt8GNGJa9ooz",
        "colab_type": "code",
        "colab": {
          "base_uri": "https://localhost:8080/",
          "height": 34
        },
        "outputId": "642a69c5-d689-4096-e8e6-3776a219f470"
      },
      "source": [
        "len(characters)"
      ],
      "execution_count": 18,
      "outputs": [
        {
          "output_type": "execute_result",
          "data": {
            "text/plain": [
              "302"
            ]
          },
          "metadata": {
            "tags": []
          },
          "execution_count": 18
        }
      ]
    },
    {
      "cell_type": "code",
      "metadata": {
        "id": "LcB4Y7I7-KkO",
        "colab_type": "code",
        "colab": {
          "base_uri": "https://localhost:8080/",
          "height": 104
        },
        "outputId": "878834eb-5bf8-4ea6-82c8-f3d745ee4107"
      },
      "source": [
        "characters[:5]"
      ],
      "execution_count": 19,
      "outputs": [
        {
          "output_type": "execute_result",
          "data": {
            "text/plain": [
              "[(1, 'Aliquid iste optio reiciendi', 0, 0, 10, 1, 1, 1, 1),\n",
              " (2, 'Optio dolorem ex a', 0, 0, 10, 1, 1, 1, 1),\n",
              " (3, 'Minus c', 0, 0, 10, 1, 1, 1, 1),\n",
              " (4, 'Sit ut repr', 0, 0, 10, 1, 1, 1, 1),\n",
              " (5, 'At id recusandae expl', 0, 0, 10, 1, 1, 1, 1)]"
            ]
          },
          "metadata": {
            "tags": []
          },
          "execution_count": 19
        }
      ]
    },
    {
      "cell_type": "code",
      "metadata": {
        "id": "k0j1DPQ0-VqJ",
        "colab_type": "code",
        "colab": {}
      },
      "source": [
        "# Step 1 is complete , we have a list of tuples with all our character data\n",
        "# Note that this is not a pandas dataframe\n",
        "# We do not know types so far, so we need to figure out that in the transform\n",
        "# step"
      ],
      "execution_count": null,
      "outputs": []
    },
    {
      "cell_type": "code",
      "metadata": {
        "id": "SZbl7hwQ_x_B",
        "colab_type": "code",
        "colab": {
          "base_uri": "https://localhost:8080/",
          "height": 173
        },
        "outputId": "32fc0657-bc77-4b10-bcd6-7876f457c766"
      },
      "source": [
        "# Step 2 - Transform\n",
        "# Our goal is to make a schema to define a table that fits this data in PostgreSQL\n",
        "# Can we recheck old schema?\n",
        "s1_cursor.execute(\"PRAGMA table_info(Charactercreator_character);\").fetchall()"
      ],
      "execution_count": 20,
      "outputs": [
        {
          "output_type": "execute_result",
          "data": {
            "text/plain": [
              "[(0, 'character_id', 'integer', 1, None, 1),\n",
              " (1, 'name', 'varchar(30)', 1, None, 0),\n",
              " (2, 'level', 'integer', 1, None, 0),\n",
              " (3, 'exp', 'integer', 1, None, 0),\n",
              " (4, 'hp', 'integer', 1, None, 0),\n",
              " (5, 'strength', 'integer', 1, None, 0),\n",
              " (6, 'intelligence', 'integer', 1, None, 0),\n",
              " (7, 'dexterity', 'integer', 1, None, 0),\n",
              " (8, 'wisdom', 'integer', 1, None, 0)]"
            ]
          },
          "metadata": {
            "tags": []
          },
          "execution_count": 20
        }
      ]
    },
    {
      "cell_type": "code",
      "metadata": {
        "id": "3E6q6GyqC7nF",
        "colab_type": "code",
        "colab": {}
      },
      "source": [
        "# Need to make a create statement in PostgreSQL that captures the above types\n",
        "create_character_table = \"\"\"\n",
        "CREATE TABLE Charactercreator_character(\n",
        "character_id SERIAL PRIMARY KEY, \n",
        "name VARCHAR(30),\n",
        "level INTEGER,\n",
        "exp INTEGER,\n",
        "hp INTEGER,\n",
        "strength INTEGER,\n",
        "intelligence INTEGER,\n",
        "dexterity INTEGER,\n",
        "wisdom INTEGER\n",
        ");\n",
        "\"\"\""
      ],
      "execution_count": 21,
      "outputs": []
    },
    {
      "cell_type": "code",
      "metadata": {
        "id": "hdxNgOGRO7v_",
        "colab_type": "code",
        "colab": {}
      },
      "source": [
        "# Defining a function to refresh connection and cursor\n",
        "def refresh_connection_and_cursor(connect, cursor):\n",
        "  cursor.close()\n",
        "  connect.close()\n",
        "  pg_connect = psycopg2.connect(dbname=dbname, user=user,\n",
        "                             password=password, host=host)\n",
        "  pg_cursor = pg_connect.cursor()\n",
        "  return pg_connect, pg_cursor"
      ],
      "execution_count": 43,
      "outputs": []
    },
    {
      "cell_type": "code",
      "metadata": {
        "id": "7D9qkw7qPN3W",
        "colab_type": "code",
        "colab": {}
      },
      "source": [
        "pg_connect, pg_cursor = refresh_connection_and_cursor(pg_connect, pg_cursor)"
      ],
      "execution_count": 44,
      "outputs": []
    },
    {
      "cell_type": "code",
      "metadata": {
        "id": "AlcJi_o4Pi8_",
        "colab_type": "code",
        "colab": {
          "base_uri": "https://localhost:8080/",
          "height": 200
        },
        "outputId": "45d2a17f-30d1-4fdd-d2dc-b608b71c3b08"
      },
      "source": [
        "# Execute the create table\n",
        "pg_cursor.execute(create_character_table)\n",
        "pg_connect.commit()"
      ],
      "execution_count": 45,
      "outputs": [
        {
          "output_type": "error",
          "ename": "DuplicateTable",
          "evalue": "ignored",
          "traceback": [
            "\u001b[0;31m---------------------------------------------------------------------------\u001b[0m",
            "\u001b[0;31mDuplicateTable\u001b[0m                            Traceback (most recent call last)",
            "\u001b[0;32m<ipython-input-45-b2e10ea52ee3>\u001b[0m in \u001b[0;36m<module>\u001b[0;34m()\u001b[0m\n\u001b[1;32m      1\u001b[0m \u001b[0;31m# Execute the create table\u001b[0m\u001b[0;34m\u001b[0m\u001b[0;34m\u001b[0m\u001b[0;34m\u001b[0m\u001b[0m\n\u001b[0;32m----> 2\u001b[0;31m \u001b[0mpg_cursor\u001b[0m\u001b[0;34m.\u001b[0m\u001b[0mexecute\u001b[0m\u001b[0;34m(\u001b[0m\u001b[0mcreate_character_table\u001b[0m\u001b[0;34m)\u001b[0m\u001b[0;34m\u001b[0m\u001b[0;34m\u001b[0m\u001b[0m\n\u001b[0m\u001b[1;32m      3\u001b[0m \u001b[0mpg_connect\u001b[0m\u001b[0;34m.\u001b[0m\u001b[0mcommit\u001b[0m\u001b[0;34m(\u001b[0m\u001b[0;34m)\u001b[0m\u001b[0;34m\u001b[0m\u001b[0;34m\u001b[0m\u001b[0m\n",
            "\u001b[0;31mDuplicateTable\u001b[0m: relation \"charactercreator_character\" already exists\n"
          ]
        }
      ]
    },
    {
      "cell_type": "code",
      "metadata": {
        "id": "jNBSH2OkHKIf",
        "colab_type": "code",
        "colab": {
          "base_uri": "https://localhost:8080/",
          "height": 234
        },
        "outputId": "8612ac52-d9e6-4729-e7c0-73a29575cf98"
      },
      "source": [
        "# We can query postgre database to see what data it has\n",
        "# This is a clever optional step which shows postgre internals\n",
        "show_tables = \"\"\"\n",
        "SELECT \n",
        "* \n",
        "FROM \n",
        "  pg_catalog.pg_tables\n",
        "WHERE\n",
        "  schemaname !=  'pg_catalog'\n",
        "AND\n",
        "  schemaname !=  'information_schema';\n",
        "\"\"\"\n",
        "pg_cursor.execute(show_tables)\n",
        "pg_cursor.fetchall()"
      ],
      "execution_count": 46,
      "outputs": [
        {
          "output_type": "error",
          "ename": "InFailedSqlTransaction",
          "evalue": "ignored",
          "traceback": [
            "\u001b[0;31m---------------------------------------------------------------------------\u001b[0m",
            "\u001b[0;31mInFailedSqlTransaction\u001b[0m                    Traceback (most recent call last)",
            "\u001b[0;32m<ipython-input-46-2cdff310320d>\u001b[0m in \u001b[0;36m<module>\u001b[0;34m()\u001b[0m\n\u001b[1;32m     11\u001b[0m   \u001b[0mschemaname\u001b[0m \u001b[0;34m!=\u001b[0m  \u001b[0;34m'information_schema'\u001b[0m\u001b[0;34m;\u001b[0m\u001b[0;34m\u001b[0m\u001b[0;34m\u001b[0m\u001b[0m\n\u001b[1;32m     12\u001b[0m \"\"\"\n\u001b[0;32m---> 13\u001b[0;31m \u001b[0mpg_cursor\u001b[0m\u001b[0;34m.\u001b[0m\u001b[0mexecute\u001b[0m\u001b[0;34m(\u001b[0m\u001b[0mshow_tables\u001b[0m\u001b[0;34m)\u001b[0m\u001b[0;34m\u001b[0m\u001b[0;34m\u001b[0m\u001b[0m\n\u001b[0m\u001b[1;32m     14\u001b[0m \u001b[0mpg_cursor\u001b[0m\u001b[0;34m.\u001b[0m\u001b[0mfetchall\u001b[0m\u001b[0;34m(\u001b[0m\u001b[0;34m)\u001b[0m\u001b[0;34m\u001b[0m\u001b[0;34m\u001b[0m\u001b[0m\n",
            "\u001b[0;31mInFailedSqlTransaction\u001b[0m: current transaction is aborted, commands ignored until end of transaction block\n"
          ]
        }
      ]
    },
    {
      "cell_type": "code",
      "metadata": {
        "id": "KHi7R4BlK_cK",
        "colab_type": "code",
        "colab": {
          "base_uri": "https://localhost:8080/",
          "height": 34
        },
        "outputId": "5b0cbfa2-58ab-4c63-94f9-6b2ebe5c0923"
      },
      "source": [
        "# We now have a place to insert our characters without the need to transform as much\n",
        "# Step 3  - LOAD\n",
        "characters[0]\n"
      ],
      "execution_count": 58,
      "outputs": [
        {
          "output_type": "execute_result",
          "data": {
            "text/plain": [
              "(1, 'Aliquid iste optio reiciendi', 0, 0, 10, 1, 1, 1, 1)"
            ]
          },
          "metadata": {
            "tags": []
          },
          "execution_count": 58
        }
      ]
    },
    {
      "cell_type": "code",
      "metadata": {
        "id": "laVxIJg2LlGd",
        "colab_type": "code",
        "colab": {
          "base_uri": "https://localhost:8080/",
          "height": 34
        },
        "outputId": "7a72f416-439b-4d80-dd77-e4eef31b3693"
      },
      "source": [
        "characters[0][1:]"
      ],
      "execution_count": 59,
      "outputs": [
        {
          "output_type": "execute_result",
          "data": {
            "text/plain": [
              "('Aliquid iste optio reiciendi', 0, 0, 10, 1, 1, 1, 1)"
            ]
          },
          "metadata": {
            "tags": []
          },
          "execution_count": 59
        }
      ]
    },
    {
      "cell_type": "code",
      "metadata": {
        "id": "JgunVNwqMikA",
        "colab_type": "code",
        "colab": {
          "base_uri": "https://localhost:8080/",
          "height": 217
        },
        "outputId": "1d72eb02-642e-494b-f2f2-36c8753e670d"
      },
      "source": [
        "# If we ran that, we'd insert the first character\n",
        "# But we want them all - loops!\n",
        "for character in characters:\n",
        "  insert_character = \"\"\"\n",
        "    INSERT INTO charactercreator_character\n",
        "    (name, level, exp, hp, strength, intelligence, dexterity, wisdom)\n",
        "    VALUES \"\"\" + str(character[1:]) + \";\"\n",
        "  pg_cursor.execute(insert_character)"
      ],
      "execution_count": 47,
      "outputs": [
        {
          "output_type": "error",
          "ename": "InFailedSqlTransaction",
          "evalue": "ignored",
          "traceback": [
            "\u001b[0;31m---------------------------------------------------------------------------\u001b[0m",
            "\u001b[0;31mInFailedSqlTransaction\u001b[0m                    Traceback (most recent call last)",
            "\u001b[0;32m<ipython-input-47-568e5fdd6489>\u001b[0m in \u001b[0;36m<module>\u001b[0;34m()\u001b[0m\n\u001b[1;32m      7\u001b[0m     VALUES \"\"\" + str(character[1:]) + \";\"\n\u001b[1;32m      8\u001b[0m \u001b[0;34m\u001b[0m\u001b[0m\n\u001b[0;32m----> 9\u001b[0;31m \u001b[0mpg_cursor\u001b[0m\u001b[0;34m.\u001b[0m\u001b[0mexecute\u001b[0m\u001b[0;34m(\u001b[0m\u001b[0minsert_character\u001b[0m\u001b[0;34m)\u001b[0m\u001b[0;34m\u001b[0m\u001b[0;34m\u001b[0m\u001b[0m\n\u001b[0m",
            "\u001b[0;31mInFailedSqlTransaction\u001b[0m: current transaction is aborted, commands ignored until end of transaction block\n"
          ]
        }
      ]
    },
    {
      "cell_type": "code",
      "metadata": {
        "id": "xmoTc93FQZ8F",
        "colab_type": "code",
        "colab": {}
      },
      "source": [
        "# Note - we're executing each character one at a time\n",
        "# That works, and is simple, but inefficient (lots of roundtrips to database)\n",
        "# Stretch/afternoon goal - see if you can combine into a single\n",
        "# insert that does them all at once"
      ],
      "execution_count": null,
      "outputs": []
    },
    {
      "cell_type": "code",
      "metadata": {
        "id": "_VAsV6BSQiBE",
        "colab_type": "code",
        "colab": {}
      },
      "source": [
        "pg_connect.commit()"
      ],
      "execution_count": 48,
      "outputs": []
    },
    {
      "cell_type": "code",
      "metadata": {
        "id": "eIiCBwLhNBcR",
        "colab_type": "code",
        "colab": {
          "base_uri": "https://localhost:8080/",
          "height": 34
        },
        "outputId": "e15f1275-a171-401e-9790-4469140371f9"
      },
      "source": [
        "# Postgre cursor needs to fetch in a separate step unlike sqlite\n",
        "pg_cursor.execute(\"SELECT * FROM charactercreator_character LIMIT 5;\")\n",
        "pg_cursor.fetchall()"
      ],
      "execution_count": 49,
      "outputs": [
        {
          "output_type": "execute_result",
          "data": {
            "text/plain": [
              "[]"
            ]
          },
          "metadata": {
            "tags": []
          },
          "execution_count": 49
        }
      ]
    },
    {
      "cell_type": "code",
      "metadata": {
        "id": "XePjdHkPOaHr",
        "colab_type": "code",
        "colab": {
          "base_uri": "https://localhost:8080/",
          "height": 34
        },
        "outputId": "29c83dda-4fd7-4b92-b464-3154c1a01839"
      },
      "source": [
        "pg_cursor"
      ],
      "execution_count": 50,
      "outputs": [
        {
          "output_type": "execute_result",
          "data": {
            "text/plain": [
              "<cursor object at 0x7f0367a3dce0; closed: 0>"
            ]
          },
          "metadata": {
            "tags": []
          },
          "execution_count": 50
        }
      ]
    },
    {
      "cell_type": "code",
      "metadata": {
        "id": "DGcz_OdCOz_6",
        "colab_type": "code",
        "colab": {}
      },
      "source": [
        "# To make sure other connections and cursors know about our insertion\n",
        "# we need to commit\n",
        "pg_connect.commit()"
      ],
      "execution_count": 51,
      "outputs": []
    },
    {
      "cell_type": "code",
      "metadata": {
        "id": "9w3GdkA_QEQj",
        "colab_type": "code",
        "colab": {
          "base_uri": "https://localhost:8080/",
          "height": 34
        },
        "outputId": "3cca6284-2f64-4fda-d222-fb94250ddd58"
      },
      "source": [
        "# We have done a basic ETL\n",
        "# How can we verify that?\n",
        "len(characters)"
      ],
      "execution_count": 52,
      "outputs": [
        {
          "output_type": "execute_result",
          "data": {
            "text/plain": [
              "302"
            ]
          },
          "metadata": {
            "tags": []
          },
          "execution_count": 52
        }
      ]
    },
    {
      "cell_type": "code",
      "metadata": {
        "id": "3mmVPOv5RBAb",
        "colab_type": "code",
        "colab": {}
      },
      "source": [
        "# Ids are different (on first run, now fixed)!\n",
        "# That's because we had an aborted run\n",
        "# Let's fix this by deleting the data and DROPping the table\n",
        "# Other tables are fine, but we'll dump the data *and* schema to rerun\n",
        "# pg_curs.execute('DROP TABLE charactercreator_character;')\n",
        "# pg_conn.commit()"
      ],
      "execution_count": null,
      "outputs": []
    },
    {
      "cell_type": "code",
      "metadata": {
        "id": "UWLoEb5eRD5e",
        "colab_type": "code",
        "colab": {}
      },
      "source": [
        "# Now we need to rerun the above... scrolling up and down, because notebooks\n",
        "# Specifically rerunning character table create statement and data inserts"
      ],
      "execution_count": null,
      "outputs": []
    },
    {
      "cell_type": "code",
      "metadata": {
        "id": "nwRFWTrARG8L",
        "colab_type": "code",
        "colab": {}
      },
      "source": [
        "# Now the data looks the same! But let's check it systematically\n",
        "pg_cursor.execute('SELECT * FROM charactercreator_character;')\n",
        "pg_characters = pg_cursor.fetchall()"
      ],
      "execution_count": 54,
      "outputs": []
    },
    {
      "cell_type": "code",
      "metadata": {
        "id": "ug3_N0KfRKx9",
        "colab_type": "code",
        "colab": {}
      },
      "source": [
        "# We could do more spot checks, but let's loop and check them all\n",
        "# TODO/afternoon task - consider making this a more formal test\n",
        "for character, pg_character in zip(characters, pg_characters):\n",
        "  assert character == pg_character"
      ],
      "execution_count": 55,
      "outputs": []
    },
    {
      "cell_type": "code",
      "metadata": {
        "id": "WC7joLWzRNOr",
        "colab_type": "code",
        "colab": {
          "base_uri": "https://localhost:8080/",
          "height": 200
        },
        "outputId": "9f562eca-0fe0-4235-d5d3-1a7be138bae7"
      },
      "source": [
        "# No complaints - which means they're all the same!\n",
        "# Closing out cursor/connection to wrap up\n",
        "pg_cursor.close()\n",
        "pg_connect.close()\n",
        "s1_cursor.close()\n",
        "s1_connect.close()"
      ],
      "execution_count": 57,
      "outputs": [
        {
          "output_type": "error",
          "ename": "NameError",
          "evalue": "ignored",
          "traceback": [
            "\u001b[0;31m---------------------------------------------------------------------------\u001b[0m",
            "\u001b[0;31mNameError\u001b[0m                                 Traceback (most recent call last)",
            "\u001b[0;32m<ipython-input-57-7d34da67ed4b>\u001b[0m in \u001b[0;36m<module>\u001b[0;34m()\u001b[0m\n\u001b[1;32m      4\u001b[0m \u001b[0mpg_connect\u001b[0m\u001b[0;34m.\u001b[0m\u001b[0mclose\u001b[0m\u001b[0;34m(\u001b[0m\u001b[0;34m)\u001b[0m\u001b[0;34m\u001b[0m\u001b[0;34m\u001b[0m\u001b[0m\n\u001b[1;32m      5\u001b[0m \u001b[0ms1_cursor\u001b[0m\u001b[0;34m.\u001b[0m\u001b[0mclose\u001b[0m\u001b[0;34m(\u001b[0m\u001b[0;34m)\u001b[0m\u001b[0;34m\u001b[0m\u001b[0;34m\u001b[0m\u001b[0m\n\u001b[0;32m----> 6\u001b[0;31m \u001b[0ms1_connect\u001b[0m\u001b[0;34m.\u001b[0m\u001b[0mclose\u001b[0m\u001b[0;34m(\u001b[0m\u001b[0;34m)\u001b[0m\u001b[0;34m\u001b[0m\u001b[0;34m\u001b[0m\u001b[0m\n\u001b[0m",
            "\u001b[0;31mNameError\u001b[0m: name 's1_connect' is not defined"
          ]
        }
      ]
    }
  ]
}