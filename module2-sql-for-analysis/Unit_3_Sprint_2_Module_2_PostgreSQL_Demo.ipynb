{
  "nbformat": 4,
  "nbformat_minor": 0,
  "metadata": {
    "colab": {
      "name": "Unit 3 Sprint 2 Module 2 - PostgreSQL Demo.ipynb",
      "provenance": []
    },
    "kernelspec": {
      "name": "python3",
      "display_name": "Python 3"
    }
  },
  "cells": [
    {
      "cell_type": "markdown",
      "metadata": {
        "id": "BDjnWZ3BNagn",
        "colab_type": "text"
      },
      "source": [
        "# Live Demo Code for Connecting to PostgreSQL from Python\n",
        "\n",
        "Notebook for your helpful reference - but the assignment still requires writing .py files!"
      ]
    },
    {
      "cell_type": "code",
      "metadata": {
        "id": "tmRsQptUNWx4",
        "colab_type": "code",
        "colab": {
          "base_uri": "https://localhost:8080/",
          "height": 126
        },
        "outputId": "0069126f-06e5-49d3-8f84-218f6cb7ac03"
      },
      "source": [
        "# We want to connect to our PostgreSQL database\n",
        "# Step 1 - have the library psycopg2 installed\n",
        "# Locally: pipenv install psycopg2-binary\n",
        "!pip install psycopg2-binary"
      ],
      "execution_count": null,
      "outputs": [
        {
          "output_type": "stream",
          "text": [
            "Collecting psycopg2-binary\n",
            "\u001b[?25l  Downloading https://files.pythonhosted.org/packages/d3/8a/a7ed55c2c55bd4f5844d72734fedc0cef8a74518a0a19105a21c15628f1e/psycopg2_binary-2.8.5-cp36-cp36m-manylinux1_x86_64.whl (2.9MB)\n",
            "\u001b[K     |████████████████████████████████| 2.9MB 2.8MB/s \n",
            "\u001b[?25hInstalling collected packages: psycopg2-binary\n",
            "Successfully installed psycopg2-binary-2.8.5\n"
          ],
          "name": "stdout"
        }
      ]
    },
    {
      "cell_type": "code",
      "metadata": {
        "id": "lBdpMZKqb4pa",
        "colab_type": "code",
        "colab": {}
      },
      "source": [
        "import psycopg2"
      ],
      "execution_count": null,
      "outputs": []
    },
    {
      "cell_type": "code",
      "metadata": {
        "id": "HqLPxHUDb917",
        "colab_type": "code",
        "colab": {
          "base_uri": "https://localhost:8080/",
          "height": 835
        },
        "outputId": "744b21b3-894a-466a-d7ea-90b71f593bcc"
      },
      "source": [
        "dir(psycopg2)"
      ],
      "execution_count": null,
      "outputs": [
        {
          "output_type": "execute_result",
          "data": {
            "text/plain": [
              "['BINARY',\n",
              " 'Binary',\n",
              " 'DATETIME',\n",
              " 'DataError',\n",
              " 'DatabaseError',\n",
              " 'Date',\n",
              " 'DateFromTicks',\n",
              " 'Error',\n",
              " 'IntegrityError',\n",
              " 'InterfaceError',\n",
              " 'InternalError',\n",
              " 'NUMBER',\n",
              " 'NotSupportedError',\n",
              " 'OperationalError',\n",
              " 'ProgrammingError',\n",
              " 'ROWID',\n",
              " 'STRING',\n",
              " 'Time',\n",
              " 'TimeFromTicks',\n",
              " 'Timestamp',\n",
              " 'TimestampFromTicks',\n",
              " 'Warning',\n",
              " '__builtins__',\n",
              " '__cached__',\n",
              " '__doc__',\n",
              " '__file__',\n",
              " '__libpq_version__',\n",
              " '__loader__',\n",
              " '__name__',\n",
              " '__package__',\n",
              " '__path__',\n",
              " '__spec__',\n",
              " '__version__',\n",
              " '_connect',\n",
              " '_ext',\n",
              " '_json',\n",
              " '_psycopg',\n",
              " '_range',\n",
              " 'apilevel',\n",
              " 'compat',\n",
              " 'connect',\n",
              " 'errors',\n",
              " 'extensions',\n",
              " 'paramstyle',\n",
              " 'threadsafety',\n",
              " 'tz']"
            ]
          },
          "metadata": {
            "tags": []
          },
          "execution_count": 3
        }
      ]
    },
    {
      "cell_type": "code",
      "metadata": {
        "id": "eMvyeqEXb_b5",
        "colab_type": "code",
        "colab": {
          "base_uri": "https://localhost:8080/",
          "height": 639
        },
        "outputId": "4d6190f9-9616-4686-d9aa-a5a1b5484f32"
      },
      "source": [
        "help(psycopg2.connect)"
      ],
      "execution_count": null,
      "outputs": [
        {
          "output_type": "stream",
          "text": [
            "Help on function connect in module psycopg2:\n",
            "\n",
            "connect(dsn=None, connection_factory=None, cursor_factory=None, **kwargs)\n",
            "    Create a new database connection.\n",
            "    \n",
            "    The connection parameters can be specified as a string:\n",
            "    \n",
            "        conn = psycopg2.connect(\"dbname=test user=postgres password=secret\")\n",
            "    \n",
            "    or using a set of keyword arguments:\n",
            "    \n",
            "        conn = psycopg2.connect(database=\"test\", user=\"postgres\", password=\"secret\")\n",
            "    \n",
            "    Or as a mix of both. The basic connection parameters are:\n",
            "    \n",
            "    - *dbname*: the database name\n",
            "    - *database*: the database name (only as keyword argument)\n",
            "    - *user*: user name used to authenticate\n",
            "    - *password*: password used to authenticate\n",
            "    - *host*: database host address (defaults to UNIX socket if not provided)\n",
            "    - *port*: connection port number (defaults to 5432 if not provided)\n",
            "    \n",
            "    Using the *connection_factory* parameter a different class or connections\n",
            "    factory can be specified. It should be a callable object taking a dsn\n",
            "    argument.\n",
            "    \n",
            "    Using the *cursor_factory* parameter, a new default cursor factory will be\n",
            "    used by cursor().\n",
            "    \n",
            "    Using *async*=True an asynchronous connection will be created. *async_* is\n",
            "    a valid alias (for Python versions where ``async`` is a keyword).\n",
            "    \n",
            "    Any other keyword parameter will be passed to the underlying client\n",
            "    library: the list of supported parameters depends on the library version.\n",
            "\n"
          ],
          "name": "stdout"
        }
      ]
    },
    {
      "cell_type": "code",
      "metadata": {
        "id": "6Vyn6cxucI5Z",
        "colab_type": "code",
        "colab": {}
      },
      "source": [
        "# Looks similar to sqlite3, but needs auth/host info to connect\n",
        "# Note - this is sensitive info (particularly password)\n",
        "# and shouldn't be checked into git! More on how to handle next week\n",
        "\n",
        "dbname = 'qaxlnjzu'\n",
        "user = 'qaxlnjzu'  # ElephantSQL happens to use same name for db and user\n",
        "password = 'dthMYhbEWDyr80RDQLJ6Rd2Zqi9HVEq1'  # Sensitive! Don't share/commit\n",
        "host = 'isilo.db.elephantsql.com'"
      ],
      "execution_count": null,
      "outputs": []
    },
    {
      "cell_type": "code",
      "metadata": {
        "id": "IyD6b9mLc0hP",
        "colab_type": "code",
        "colab": {}
      },
      "source": [
        "# If we make too many connections, the database complains! Be sure to close\n",
        "# cursors and connections\n",
        "pg_conn = psycopg2.connect(dbname=dbname, user=user,\n",
        "                           password=password, host=host)"
      ],
      "execution_count": null,
      "outputs": []
    },
    {
      "cell_type": "code",
      "metadata": {
        "id": "VO770b8oc9nu",
        "colab_type": "code",
        "colab": {
          "base_uri": "https://localhost:8080/",
          "height": 55
        },
        "outputId": "a953f19d-73a3-43d4-c7de-c37af25485af"
      },
      "source": [
        "pg_conn"
      ],
      "execution_count": null,
      "outputs": [
        {
          "output_type": "execute_result",
          "data": {
            "text/plain": [
              "<connection object at 0x7f83c6b5dc78; dsn: 'user=qaxlnjzu password=xxx dbname=qaxlnjzu host=isilo.db.elephantsql.com', closed: 0>"
            ]
          },
          "metadata": {
            "tags": []
          },
          "execution_count": 7
        }
      ]
    },
    {
      "cell_type": "code",
      "metadata": {
        "id": "OgiiuJA3c_xE",
        "colab_type": "code",
        "colab": {
          "base_uri": "https://localhost:8080/",
          "height": 1000
        },
        "outputId": "e39b141e-a4b3-4906-dbfc-5bbbf8bb1e8a"
      },
      "source": [
        "dir(pg_conn)"
      ],
      "execution_count": null,
      "outputs": [
        {
          "output_type": "execute_result",
          "data": {
            "text/plain": [
              "['DataError',\n",
              " 'DatabaseError',\n",
              " 'Error',\n",
              " 'IntegrityError',\n",
              " 'InterfaceError',\n",
              " 'InternalError',\n",
              " 'NotSupportedError',\n",
              " 'OperationalError',\n",
              " 'ProgrammingError',\n",
              " 'Warning',\n",
              " '__class__',\n",
              " '__delattr__',\n",
              " '__dir__',\n",
              " '__doc__',\n",
              " '__enter__',\n",
              " '__eq__',\n",
              " '__exit__',\n",
              " '__format__',\n",
              " '__ge__',\n",
              " '__getattribute__',\n",
              " '__gt__',\n",
              " '__hash__',\n",
              " '__init__',\n",
              " '__init_subclass__',\n",
              " '__le__',\n",
              " '__lt__',\n",
              " '__ne__',\n",
              " '__new__',\n",
              " '__reduce__',\n",
              " '__reduce_ex__',\n",
              " '__repr__',\n",
              " '__setattr__',\n",
              " '__sizeof__',\n",
              " '__str__',\n",
              " '__subclasshook__',\n",
              " 'async',\n",
              " 'async_',\n",
              " 'autocommit',\n",
              " 'binary_types',\n",
              " 'cancel',\n",
              " 'close',\n",
              " 'closed',\n",
              " 'commit',\n",
              " 'cursor',\n",
              " 'cursor_factory',\n",
              " 'deferrable',\n",
              " 'dsn',\n",
              " 'encoding',\n",
              " 'fileno',\n",
              " 'get_backend_pid',\n",
              " 'get_dsn_parameters',\n",
              " 'get_native_connection',\n",
              " 'get_parameter_status',\n",
              " 'get_transaction_status',\n",
              " 'info',\n",
              " 'isexecuting',\n",
              " 'isolation_level',\n",
              " 'lobject',\n",
              " 'notices',\n",
              " 'notifies',\n",
              " 'pgconn_ptr',\n",
              " 'poll',\n",
              " 'protocol_version',\n",
              " 'readonly',\n",
              " 'reset',\n",
              " 'rollback',\n",
              " 'server_version',\n",
              " 'set_client_encoding',\n",
              " 'set_isolation_level',\n",
              " 'set_session',\n",
              " 'status',\n",
              " 'string_types',\n",
              " 'tpc_begin',\n",
              " 'tpc_commit',\n",
              " 'tpc_prepare',\n",
              " 'tpc_recover',\n",
              " 'tpc_rollback',\n",
              " 'xid']"
            ]
          },
          "metadata": {
            "tags": []
          },
          "execution_count": 8
        }
      ]
    },
    {
      "cell_type": "code",
      "metadata": {
        "id": "cjkH5V4BdEhb",
        "colab_type": "code",
        "colab": {}
      },
      "source": [
        "pg_curs = pg_conn.cursor()  # Works the same as SQLite!"
      ],
      "execution_count": null,
      "outputs": []
    },
    {
      "cell_type": "code",
      "metadata": {
        "id": "_kVTfZCQdKBY",
        "colab_type": "code",
        "colab": {
          "base_uri": "https://localhost:8080/",
          "height": 106
        },
        "outputId": "64f67a36-18f2-4aed-a930-c12b4c5a8045"
      },
      "source": [
        "help(pg_curs.execute)"
      ],
      "execution_count": null,
      "outputs": [
        {
          "output_type": "stream",
          "text": [
            "Help on built-in function execute:\n",
            "\n",
            "execute(...) method of psycopg2.extensions.cursor instance\n",
            "    execute(query, vars=None) -- Execute query with bound vars.\n",
            "\n"
          ],
          "name": "stdout"
        }
      ]
    },
    {
      "cell_type": "code",
      "metadata": {
        "id": "8MBv2xIIdMKE",
        "colab_type": "code",
        "colab": {
          "base_uri": "https://localhost:8080/",
          "height": 106
        },
        "outputId": "72c0c605-38fd-4ee6-9fda-e2d1e5fb4f8d"
      },
      "source": [
        "help(pg_curs.executemany)  # And more functionality!"
      ],
      "execution_count": null,
      "outputs": [
        {
          "output_type": "stream",
          "text": [
            "Help on built-in function executemany:\n",
            "\n",
            "executemany(...) method of psycopg2.extensions.cursor instance\n",
            "    executemany(query, vars_list) -- Execute many queries with bound vars.\n",
            "\n"
          ],
          "name": "stdout"
        }
      ]
    },
    {
      "cell_type": "code",
      "metadata": {
        "id": "WGzDXqWfgpmC",
        "colab_type": "code",
        "colab": {}
      },
      "source": [
        "# We're connected, but db is empty\n",
        "# Let's run a simple example to populate (from the tk)\n",
        "create_table_statement = \"\"\"\n",
        "CREATE TABLE test_table (\n",
        "  id SERIAL PRIMARY KEY,\n",
        "  name varchar(40) NOT NULL,\n",
        "  data JSONB\n",
        ");\n",
        "\"\"\"\n",
        "# NOTE - these types are PostgreSQL specific. This won't work in SQLite!\n",
        "\n",
        "pg_curs.execute(create_table_statement)\n",
        "pg_conn.commit()  # \"Save\" by committing"
      ],
      "execution_count": null,
      "outputs": []
    },
    {
      "cell_type": "code",
      "metadata": {
        "id": "-FD-BzzcdQNm",
        "colab_type": "code",
        "colab": {
          "base_uri": "https://localhost:8080/",
          "height": 35
        },
        "outputId": "dcc5ba5a-93fb-4721-cff8-8a6ed765816b"
      },
      "source": [
        "# We're connected, let's see what is in the db\n",
        "pg_curs.execute('SELECT * FROM test_table;')\n",
        "pg_curs.fetchall()"
      ],
      "execution_count": null,
      "outputs": [
        {
          "output_type": "execute_result",
          "data": {
            "text/plain": [
              "[]"
            ]
          },
          "metadata": {
            "tags": []
          },
          "execution_count": 29
        }
      ]
    },
    {
      "cell_type": "code",
      "metadata": {
        "id": "_3DxY6u4dbUj",
        "colab_type": "code",
        "colab": {}
      },
      "source": [
        "insert_statement = \"\"\"\n",
        "INSERT INTO test_table (name, data) VALUES\n",
        "(\n",
        "  'Zaphod Beeblebrox',\n",
        "  '{\"key\": \"value\", \"key2\": true}'::JSONB\n",
        ")\n",
        "\"\"\""
      ],
      "execution_count": null,
      "outputs": []
    },
    {
      "cell_type": "code",
      "metadata": {
        "id": "gjeINKCAfth-",
        "colab_type": "code",
        "colab": {}
      },
      "source": [
        "pg_curs.execute(insert_statement)\n",
        "pg_conn.commit()"
      ],
      "execution_count": null,
      "outputs": []
    },
    {
      "cell_type": "code",
      "metadata": {
        "id": "PHFwom4-f1Fu",
        "colab_type": "code",
        "colab": {
          "base_uri": "https://localhost:8080/",
          "height": 35
        },
        "outputId": "a1299a74-a681-4891-d9ef-09a0c79963ff"
      },
      "source": [
        "pg_curs.execute('SELECT * FROM test_table;')\n",
        "pg_curs.fetchall()"
      ],
      "execution_count": null,
      "outputs": [
        {
          "output_type": "execute_result",
          "data": {
            "text/plain": [
              "[(1, 'Zaphod Beeblebrox', {'key': 'value', 'key2': True})]"
            ]
          },
          "metadata": {
            "tags": []
          },
          "execution_count": 32
        }
      ]
    },
    {
      "cell_type": "code",
      "metadata": {
        "id": "moyo3HUdgxUs",
        "colab_type": "code",
        "colab": {}
      },
      "source": [
        "pg_curs.close()\n",
        "# pg_conn.close()  # If we were really done"
      ],
      "execution_count": null,
      "outputs": []
    },
    {
      "cell_type": "code",
      "metadata": {
        "id": "NRiD6qd1g-Vr",
        "colab_type": "code",
        "colab": {
          "base_uri": "https://localhost:8080/",
          "height": 222
        },
        "outputId": "ca4e3dde-89ce-48b3-b502-9bccd001ae84"
      },
      "source": [
        "# Database constraints from the schema are enforced!\n",
        "# This is good - helps ensure data quality\n",
        "pg_curs = pg_conn.cursor()\n",
        "pg_curs.execute('INSERT INTO test_table (name, data) VALUES (null, null);');"
      ],
      "execution_count": null,
      "outputs": [
        {
          "output_type": "error",
          "ename": "NotNullViolation",
          "evalue": "ignored",
          "traceback": [
            "\u001b[0;31m---------------------------------------------------------------------------\u001b[0m",
            "\u001b[0;31mNotNullViolation\u001b[0m                          Traceback (most recent call last)",
            "\u001b[0;32m<ipython-input-34-0664926ea23b>\u001b[0m in \u001b[0;36m<module>\u001b[0;34m()\u001b[0m\n\u001b[1;32m      2\u001b[0m \u001b[0;31m# This is good - helps ensure data quality\u001b[0m\u001b[0;34m\u001b[0m\u001b[0;34m\u001b[0m\u001b[0;34m\u001b[0m\u001b[0m\n\u001b[1;32m      3\u001b[0m \u001b[0mpg_curs\u001b[0m \u001b[0;34m=\u001b[0m \u001b[0mpg_conn\u001b[0m\u001b[0;34m.\u001b[0m\u001b[0mcursor\u001b[0m\u001b[0;34m(\u001b[0m\u001b[0;34m)\u001b[0m\u001b[0;34m\u001b[0m\u001b[0;34m\u001b[0m\u001b[0m\n\u001b[0;32m----> 4\u001b[0;31m \u001b[0mpg_curs\u001b[0m\u001b[0;34m.\u001b[0m\u001b[0mexecute\u001b[0m\u001b[0;34m(\u001b[0m\u001b[0;34m'INSERT INTO test_table (name, data) VALUES (null, null);'\u001b[0m\u001b[0;34m)\u001b[0m\u001b[0;34m;\u001b[0m\u001b[0;34m\u001b[0m\u001b[0;34m\u001b[0m\u001b[0m\n\u001b[0m",
            "\u001b[0;31mNotNullViolation\u001b[0m: null value in column \"name\" violates not-null constraint\nDETAIL:  Failing row contains (2, null, null).\n"
          ]
        }
      ]
    },
    {
      "cell_type": "markdown",
      "metadata": {
        "id": "bTAcT5iPi4g4",
        "colab_type": "text"
      },
      "source": [
        "# ETL!\n",
        "\n",
        "Extract - Transform - Load\n",
        "\n",
        "Extract: get the data out from a source (often the original \"source of truth\")\n",
        "Transform: tweak/change data as appropriate for use case, and to make it fit in...\n",
        "Load: Insert data into desired destination\n",
        "\n",
        "We'd like to get the RPG data out (extract) of SQLite and insert it into (load) PostgreSQL.\n",
        "\n",
        "We may have to tweak it a little (transform), but probably not too much, since both source and destination are SQL databases.\n",
        "\n",
        "We're making our first \"cloud\" ETL!"
      ]
    },
    {
      "cell_type": "code",
      "metadata": {
        "id": "39G5o-IKhh14",
        "colab_type": "code",
        "colab": {
          "base_uri": "https://localhost:8080/",
          "height": 393
        },
        "outputId": "dbfd2fd2-3f15-4295-9052-c78de66cfbc8"
      },
      "source": [
        "!wget https://github.com/LambdaSchool/DS-Unit-3-Sprint-2-SQL-and-Databases/blob/master/module1-introduction-to-sql/rpg_db.sqlite3?raw=true"
      ],
      "execution_count": null,
      "outputs": [
        {
          "output_type": "stream",
          "text": [
            "--2020-08-11 17:26:23--  https://github.com/LambdaSchool/DS-Unit-3-Sprint-2-SQL-and-Databases/blob/master/module1-introduction-to-sql/rpg_db.sqlite3?raw=true\n",
            "Resolving github.com (github.com)... 140.82.113.4\n",
            "Connecting to github.com (github.com)|140.82.113.4|:443... connected.\n",
            "HTTP request sent, awaiting response... 302 Found\n",
            "Location: https://github.com/LambdaSchool/DS-Unit-3-Sprint-2-SQL-and-Databases/raw/master/module1-introduction-to-sql/rpg_db.sqlite3 [following]\n",
            "--2020-08-11 17:26:23--  https://github.com/LambdaSchool/DS-Unit-3-Sprint-2-SQL-and-Databases/raw/master/module1-introduction-to-sql/rpg_db.sqlite3\n",
            "Reusing existing connection to github.com:443.\n",
            "HTTP request sent, awaiting response... 302 Found\n",
            "Location: https://raw.githubusercontent.com/LambdaSchool/DS-Unit-3-Sprint-2-SQL-and-Databases/master/module1-introduction-to-sql/rpg_db.sqlite3 [following]\n",
            "--2020-08-11 17:26:23--  https://raw.githubusercontent.com/LambdaSchool/DS-Unit-3-Sprint-2-SQL-and-Databases/master/module1-introduction-to-sql/rpg_db.sqlite3\n",
            "Resolving raw.githubusercontent.com (raw.githubusercontent.com)... 151.101.0.133, 151.101.64.133, 151.101.128.133, ...\n",
            "Connecting to raw.githubusercontent.com (raw.githubusercontent.com)|151.101.0.133|:443... connected.\n",
            "HTTP request sent, awaiting response... 200 OK\n",
            "Length: 253952 (248K) [application/octet-stream]\n",
            "Saving to: ‘rpg_db.sqlite3?raw=true’\n",
            "\n",
            "rpg_db.sqlite3?raw= 100%[===================>] 248.00K  --.-KB/s    in 0.05s   \n",
            "\n",
            "2020-08-11 17:26:24 (4.80 MB/s) - ‘rpg_db.sqlite3?raw=true’ saved [253952/253952]\n",
            "\n"
          ],
          "name": "stdout"
        }
      ]
    },
    {
      "cell_type": "code",
      "metadata": {
        "id": "PmfBwXf1jwpf",
        "colab_type": "code",
        "colab": {}
      },
      "source": [
        "!mv 'rpg_db.sqlite3?raw=true' rpg_db.sqlite3"
      ],
      "execution_count": null,
      "outputs": []
    },
    {
      "cell_type": "code",
      "metadata": {
        "id": "aMHU6-4ajy5E",
        "colab_type": "code",
        "colab": {
          "base_uri": "https://localhost:8080/",
          "height": 35
        },
        "outputId": "f350a634-9e81-4eaa-dbe8-44be846310ab"
      },
      "source": [
        "!ls"
      ],
      "execution_count": null,
      "outputs": [
        {
          "output_type": "stream",
          "text": [
            "rpg_db.sqlite3\tsample_data\n"
          ],
          "name": "stdout"
        }
      ]
    },
    {
      "cell_type": "code",
      "metadata": {
        "id": "NV_ELz2xj0Fu",
        "colab_type": "code",
        "colab": {}
      },
      "source": [
        "# Step 1 - Extract, get data out of SQLite3\n",
        "# Let's focus on character data, i.e. charactercreator_character\n",
        "import sqlite3"
      ],
      "execution_count": null,
      "outputs": []
    },
    {
      "cell_type": "code",
      "metadata": {
        "id": "RbffrupDkAWA",
        "colab_type": "code",
        "colab": {}
      },
      "source": [
        "sl_conn = sqlite3.connect('rpg_db.sqlite3')"
      ],
      "execution_count": null,
      "outputs": []
    },
    {
      "cell_type": "code",
      "metadata": {
        "id": "UwZnlqRLkH1n",
        "colab_type": "code",
        "colab": {}
      },
      "source": [
        "sl_curs = sl_conn.cursor()"
      ],
      "execution_count": null,
      "outputs": []
    },
    {
      "cell_type": "code",
      "metadata": {
        "id": "Dvxw67yLkL6K",
        "colab_type": "code",
        "colab": {}
      },
      "source": [
        "get_characters = \"SELECT * FROM charactercreator_character;\"\n",
        "sl_curs.execute(get_characters)\n",
        "characters = sl_curs.fetchall()"
      ],
      "execution_count": null,
      "outputs": []
    },
    {
      "cell_type": "code",
      "metadata": {
        "id": "EWGDzwYpkhnD",
        "colab_type": "code",
        "colab": {
          "base_uri": "https://localhost:8080/",
          "height": 35
        },
        "outputId": "8e80f5e7-308a-4394-e75f-d11aae5292bd"
      },
      "source": [
        "len(characters)"
      ],
      "execution_count": null,
      "outputs": [
        {
          "output_type": "execute_result",
          "data": {
            "text/plain": [
              "302"
            ]
          },
          "metadata": {
            "tags": []
          },
          "execution_count": 42
        }
      ]
    },
    {
      "cell_type": "code",
      "metadata": {
        "id": "GbT2GR1kki6Z",
        "colab_type": "code",
        "colab": {
          "base_uri": "https://localhost:8080/",
          "height": 106
        },
        "outputId": "746c6556-1550-4afc-b0b4-51214b7b64c7"
      },
      "source": [
        "characters[:5]"
      ],
      "execution_count": null,
      "outputs": [
        {
          "output_type": "execute_result",
          "data": {
            "text/plain": [
              "[(1, 'Aliquid iste optio reiciendi', 0, 0, 10, 1, 1, 1, 1),\n",
              " (2, 'Optio dolorem ex a', 0, 0, 10, 1, 1, 1, 1),\n",
              " (3, 'Minus c', 0, 0, 10, 1, 1, 1, 1),\n",
              " (4, 'Sit ut repr', 0, 0, 10, 1, 1, 1, 1),\n",
              " (5, 'At id recusandae expl', 0, 0, 10, 1, 1, 1, 1)]"
            ]
          },
          "metadata": {
            "tags": []
          },
          "execution_count": 43
        }
      ]
    },
    {
      "cell_type": "code",
      "metadata": {
        "id": "MulVdfxHkl5a",
        "colab_type": "code",
        "colab": {
          "base_uri": "https://localhost:8080/",
          "height": 177
        },
        "outputId": "455a64a2-842c-43ce-8ef0-ce61657fe155"
      },
      "source": [
        "# Step 1 complete! We have a list of tuples with all our character data\n",
        "# NOTE - this is *not* a pandas dataframe\n",
        "# We don't know types - so, for \"Transform\" we need to figure that out\n",
        "# Because our destination (PostgreSQL) needs a schema for this data\n",
        "\n",
        "# Step 2 - Transform\n",
        "# Our goal is to make a schema to define a table that fits this data in Postgres\n",
        "# We can check the old schema!\n",
        "# This is an internal meta sort of query, will vary by database flavor\n",
        "sl_curs.execute('PRAGMA table_info(charactercreator_character);')\n",
        "sl_curs.fetchall()"
      ],
      "execution_count": null,
      "outputs": [
        {
          "output_type": "execute_result",
          "data": {
            "text/plain": [
              "[(0, 'character_id', 'integer', 1, None, 1),\n",
              " (1, 'name', 'varchar(30)', 1, None, 0),\n",
              " (2, 'level', 'integer', 1, None, 0),\n",
              " (3, 'exp', 'integer', 1, None, 0),\n",
              " (4, 'hp', 'integer', 1, None, 0),\n",
              " (5, 'strength', 'integer', 1, None, 0),\n",
              " (6, 'intelligence', 'integer', 1, None, 0),\n",
              " (7, 'dexterity', 'integer', 1, None, 0),\n",
              " (8, 'wisdom', 'integer', 1, None, 0)]"
            ]
          },
          "metadata": {
            "tags": []
          },
          "execution_count": 44
        }
      ]
    },
    {
      "cell_type": "code",
      "metadata": {
        "id": "hxF_AUKJlADc",
        "colab_type": "code",
        "colab": {}
      },
      "source": [
        "# A bunch of integers, and a varchar\n",
        "# We need to make a create statement for PostgreSQL that captures this\n",
        "create_character_table = \"\"\"\n",
        "CREATE TABLE charactercreator_character (\n",
        "  character_id SERIAL PRIMARY KEY,\n",
        "  name VARCHAR(30),\n",
        "  level INT,\n",
        "  exp INT,\n",
        "  hp INT,\n",
        "  strength INT,\n",
        "  intelligence INT,\n",
        "  dexterity INT,\n",
        "  wisdom INT\n",
        ");\n",
        "\"\"\""
      ],
      "execution_count": null,
      "outputs": []
    },
    {
      "cell_type": "code",
      "metadata": {
        "id": "pWLAGE86mA1C",
        "colab_type": "code",
        "colab": {}
      },
      "source": [
        "# Defining a function to refresh connection and cursor\n",
        "def refresh_connection_and_cursor(conn, curs):\n",
        "  curs.close()\n",
        "  conn.close()\n",
        "  pg_conn = psycopg2.connect(dbname=dbname, user=user,\n",
        "                             password=password, host=host)\n",
        "  pg_curs = pg_conn.cursor()\n",
        "  return pg_conn, pg_curs"
      ],
      "execution_count": null,
      "outputs": []
    },
    {
      "cell_type": "code",
      "metadata": {
        "id": "JFVUKT2fmO1i",
        "colab_type": "code",
        "colab": {}
      },
      "source": [
        "pg_conn, pg_curs = refresh_connection_and_cursor(pg_conn, pg_curs)"
      ],
      "execution_count": null,
      "outputs": []
    },
    {
      "cell_type": "code",
      "metadata": {
        "id": "vPt0r6OTlcka",
        "colab_type": "code",
        "colab": {}
      },
      "source": [
        "# Execute the create table\n",
        "pg_curs.execute(create_character_table)\n",
        "pg_conn.commit()"
      ],
      "execution_count": null,
      "outputs": []
    },
    {
      "cell_type": "code",
      "metadata": {
        "id": "8M1ldU_9lxb1",
        "colab_type": "code",
        "colab": {
          "base_uri": "https://localhost:8080/",
          "height": 177
        },
        "outputId": "15bb8a10-d5df-4394-e1aa-a0db0dd5e265"
      },
      "source": [
        "# PostgreSQL comparison to the SQLite pragma\n",
        "# We can query tables if we want to check\n",
        "# This is a clever optional thing, showing postgresql internals\n",
        "show_tables = \"\"\"\n",
        "SELECT\n",
        "   *\n",
        "FROM\n",
        "   pg_catalog.pg_tables\n",
        "WHERE\n",
        "   schemaname != 'pg_catalog'\n",
        "AND schemaname != 'information_schema';\n",
        "\"\"\"\n",
        "pg_curs.execute(show_tables)\n",
        "pg_curs.fetchall()"
      ],
      "execution_count": null,
      "outputs": [
        {
          "output_type": "execute_result",
          "data": {
            "text/plain": [
              "[('public', 'test_table', 'qaxlnjzu', None, True, False, False, False),\n",
              " ('public',\n",
              "  'charactercreator_character',\n",
              "  'qaxlnjzu',\n",
              "  None,\n",
              "  True,\n",
              "  False,\n",
              "  False,\n",
              "  False)]"
            ]
          },
          "metadata": {
            "tags": []
          },
          "execution_count": 50
        }
      ]
    },
    {
      "cell_type": "code",
      "metadata": {
        "id": "UE_1XRh3mwIc",
        "colab_type": "code",
        "colab": {
          "base_uri": "https://localhost:8080/",
          "height": 35
        },
        "outputId": "ee55a720-02a6-4839-9ab4-9fd42d3379a4"
      },
      "source": [
        "# Done with step 2 (transform)\n",
        "# We didn't really change the data, just made sure we could fit it in our target\n",
        "# Step 3 - Load!\n",
        "characters[0]"
      ],
      "execution_count": null,
      "outputs": [
        {
          "output_type": "execute_result",
          "data": {
            "text/plain": [
              "(1, 'Aliquid iste optio reiciendi', 0, 0, 10, 1, 1, 1, 1)"
            ]
          },
          "metadata": {
            "tags": []
          },
          "execution_count": 51
        }
      ]
    },
    {
      "cell_type": "code",
      "metadata": {
        "id": "DfEcOM6wm7W-",
        "colab_type": "code",
        "colab": {
          "base_uri": "https://localhost:8080/",
          "height": 35
        },
        "outputId": "e8f48e12-4618-4bf6-c27e-619328219c4f"
      },
      "source": [
        "# We want to put this tuple in a string w/INSERT INTO...\n",
        "# But we don't want the first field (id) - PostgreSQL generates that\n",
        "characters[0][1:]"
      ],
      "execution_count": null,
      "outputs": [
        {
          "output_type": "execute_result",
          "data": {
            "text/plain": [
              "('Aliquid iste optio reiciendi', 0, 0, 10, 1, 1, 1, 1)"
            ]
          },
          "metadata": {
            "tags": []
          },
          "execution_count": 52
        }
      ]
    },
    {
      "cell_type": "code",
      "metadata": {
        "id": "OP-nkj2xnNIS",
        "colab_type": "code",
        "colab": {
          "base_uri": "https://localhost:8080/",
          "height": 88
        },
        "outputId": "32ea95c5-531f-4169-ab10-6d74dc49b24d"
      },
      "source": [
        "example_insert = \"\"\"\n",
        "INSERT INTO charactercreator_character\n",
        "(name, level, exp, hp, strength, intelligence, dexterity, wisdom)\n",
        "VALUES \"\"\" + str(characters[0][1:]) + \";\"\n",
        "\n",
        "print(example_insert)  # Not running, just inspecting"
      ],
      "execution_count": null,
      "outputs": [
        {
          "output_type": "stream",
          "text": [
            "\n",
            "INSERT INTO charactercreator_character\n",
            "(name, level, exp, hp, strength, intelligence, dexterity, wisdom)\n",
            "VALUES ('Aliquid iste optio reiciendi', 0, 0, 10, 1, 1, 1, 1);\n"
          ],
          "name": "stdout"
        }
      ]
    },
    {
      "cell_type": "code",
      "metadata": {
        "id": "I2VlKvX8nf1c",
        "colab_type": "code",
        "colab": {}
      },
      "source": [
        "# If we ran this, we'd insert the first character\n",
        "# But we want them all - loops!\n",
        "for character in characters:\n",
        "  insert_character = \"\"\"\n",
        "    INSERT INTO charactercreator_character\n",
        "    (name, level, exp, hp, strength, intelligence, dexterity, wisdom)\n",
        "    VALUES \"\"\" + str(character[1:]) + \";\"\n",
        "  pg_curs.execute(insert_character)\n",
        "\n",
        "# Note - we're executing each character one at a time\n",
        "# That works, and is simple, but inefficient (lots of roundtrips to database)\n",
        "# Stretch/afternoon goal - see if you can combine into a single\n",
        "# insert that does them all at once"
      ],
      "execution_count": null,
      "outputs": []
    },
    {
      "cell_type": "code",
      "metadata": {
        "id": "UF7IFkuVobXd",
        "colab_type": "code",
        "colab": {}
      },
      "source": [
        "pg_conn.commit()"
      ],
      "execution_count": null,
      "outputs": []
    },
    {
      "cell_type": "code",
      "metadata": {
        "id": "E9IS0xHmoFQj",
        "colab_type": "code",
        "colab": {
          "base_uri": "https://localhost:8080/",
          "height": 106
        },
        "outputId": "91dcb507-7711-4350-80df-3aad727456a8"
      },
      "source": [
        "# Let's look at what we've done\n",
        "pg_curs.execute('SELECT * FROM charactercreator_character LIMIT 5;')\n",
        "pg_curs.fetchall()"
      ],
      "execution_count": null,
      "outputs": [
        {
          "output_type": "execute_result",
          "data": {
            "text/plain": [
              "[(1, 'Aliquid iste optio reiciendi', 0, 0, 10, 1, 1, 1, 1),\n",
              " (2, 'Optio dolorem ex a', 0, 0, 10, 1, 1, 1, 1),\n",
              " (3, 'Minus c', 0, 0, 10, 1, 1, 1, 1),\n",
              " (4, 'Sit ut repr', 0, 0, 10, 1, 1, 1, 1),\n",
              " (5, 'At id recusandae expl', 0, 0, 10, 1, 1, 1, 1)]"
            ]
          },
          "metadata": {
            "tags": []
          },
          "execution_count": 66
        }
      ]
    },
    {
      "cell_type": "code",
      "metadata": {
        "id": "0J7bNI-joOPx",
        "colab_type": "code",
        "colab": {}
      },
      "source": [
        "# Ids are different (on first run, now fixed)!\n",
        "# That's because we had an aborted run\n",
        "# Let's fix this by deleting the data and DROPping the table\n",
        "# Other tables are fine, but we'll dump the data *and* schema to rerun\n",
        "# pg_curs.execute('DROP TABLE charactercreator_character;')\n",
        "# pg_conn.commit()"
      ],
      "execution_count": null,
      "outputs": []
    },
    {
      "cell_type": "code",
      "metadata": {
        "id": "f35PRP5opOqm",
        "colab_type": "code",
        "colab": {}
      },
      "source": [
        "# Now we need to rerun the above... scrolling up and down, because notebooks\n",
        "# Specifically rerunning character table create statement and data inserts"
      ],
      "execution_count": null,
      "outputs": []
    },
    {
      "cell_type": "code",
      "metadata": {
        "id": "_xqy2NAbphVy",
        "colab_type": "code",
        "colab": {}
      },
      "source": [
        "# Now the data looks the same! But let's check it systematically\n",
        "pg_curs.execute('SELECT * FROM charactercreator_character;')\n",
        "pg_characters = pg_curs.fetchall()"
      ],
      "execution_count": null,
      "outputs": []
    },
    {
      "cell_type": "code",
      "metadata": {
        "id": "JunLmc1qpoR2",
        "colab_type": "code",
        "colab": {}
      },
      "source": [
        "# We could do more spot checks, but let's loop and check them all\n",
        "# TODO/afternoon task - consider making this a more formal test\n",
        "for character, pg_character in zip(characters, pg_characters):\n",
        "  assert character == pg_character"
      ],
      "execution_count": null,
      "outputs": []
    },
    {
      "cell_type": "code",
      "metadata": {
        "id": "NDBVOADHp1rz",
        "colab_type": "code",
        "colab": {}
      },
      "source": [
        "# No complaints - which means they're all the same!\n",
        "# Closing out cursor/connection to wrap up\n",
        "pg_curs.close()\n",
        "pg_conn.close()\n",
        "sl_curs.close()\n",
        "sl_conn.close()"
      ],
      "execution_count": null,
      "outputs": []
    },
    {
      "cell_type": "code",
      "metadata": {
        "id": "ErcqzOxXp9no",
        "colab_type": "code",
        "colab": {}
      },
      "source": [
        ""
      ],
      "execution_count": null,
      "outputs": []
    }
  ]
}